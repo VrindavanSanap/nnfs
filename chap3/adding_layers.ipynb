{
 "cells": [
  {
   "cell_type": "code",
   "execution_count": 8,
   "metadata": {},
   "outputs": [],
   "source": [
    "import numpy as np\n",
    "import nnfs\n",
    "nnfs.init()\n",
    "from nnfs.datasets import spiral_data"
   ]
  },
  {
   "cell_type": "code",
   "execution_count": 9,
   "metadata": {},
   "outputs": [],
   "source": [
    "class Layer_Dense:\n",
    "    def __init__(self, n_inputs, n_neurons):\n",
    "        self.weights = 0.01 * np.random.randn(n_inputs, n_neurons)\n",
    "        self.biases = np.zeros((1, n_neurons))\n",
    "\n",
    "    def forward(self, inputs):\n",
    "        self.output = np.dot(inputs, self.weights) + self.biases\n"
   ]
  },
  {
   "cell_type": "code",
   "execution_count": null,
   "metadata": {},
   "outputs": [],
   "source": []
  },
  {
   "cell_type": "code",
   "execution_count": 16,
   "metadata": {},
   "outputs": [
    {
     "data": {
      "text/plain": [
       "(30, 2)"
      ]
     },
     "execution_count": 16,
     "metadata": {},
     "output_type": "execute_result"
    }
   ],
   "source": [
    "X.shape"
   ]
  },
  {
   "cell_type": "code",
   "execution_count": 15,
   "metadata": {},
   "outputs": [
    {
     "name": "stdout",
     "output_type": "stream",
     "text": [
      "(30, 2)\n"
     ]
    },
    {
     "data": {
      "text/plain": [
       "(array([[ 0.00000000e+00,  0.00000000e+00,  0.00000000e+00],\n",
       "        [ 5.01726696e-04, -5.20755246e-04,  4.52423148e-04],\n",
       "        [ 5.12969418e-05, -3.75090493e-03,  2.11534975e-03],\n",
       "        [-2.36514164e-03, -2.39048176e-03,  5.78563835e-04],\n",
       "        [ 1.97247905e-03,  1.06400400e-02, -5.32077439e-03],\n",
       "        [ 3.15839611e-03,  1.35370735e-02, -6.56125136e-03],\n",
       "        [ 4.26553981e-03,  2.17624474e-03,  1.51233995e-04],\n",
       "        [ 1.24942022e-03, -1.05708959e-02,  6.31612632e-03],\n",
       "        [-5.73436264e-03, -2.13754792e-02,  1.01206359e-02],\n",
       "        [-6.83212653e-03, -5.58901252e-03,  9.34716139e-04],\n",
       "        [ 0.00000000e+00,  0.00000000e+00,  0.00000000e+00],\n",
       "        [ 6.52240647e-04,  2.70455703e-03, -1.30405207e-03],\n",
       "        [ 1.73814129e-03,  4.50725714e-03, -1.96427433e-03],\n",
       "        [ 4.71271342e-04, -4.69447486e-03,  2.77812849e-03],\n",
       "        [-2.00144760e-03, -1.06594404e-02,  5.32233343e-03],\n",
       "        [-4.06219065e-03, -1.25793545e-02,  5.73527673e-03],\n",
       "        [-3.14027932e-03,  2.64704344e-03, -2.48904829e-03],\n",
       "        [-9.54812567e-04,  1.13161262e-02, -6.63858186e-03],\n",
       "        [ 5.96554577e-03,  4.36524162e-03, -5.28055243e-04],\n",
       "        [ 1.67802314e-03, -1.34053342e-02,  8.03974457e-03],\n",
       "        [ 0.00000000e+00,  0.00000000e+00,  0.00000000e+00],\n",
       "        [-6.88872169e-05, -2.07251869e-03,  1.13760633e-03],\n",
       "        [-1.76973955e-03, -3.46261240e-03,  1.36958342e-03],\n",
       "        [-1.59522297e-03,  1.22960692e-03, -1.20002276e-03],\n",
       "        [ 3.14958929e-03,  1.03027532e-02, -4.75425553e-03],\n",
       "        [ 4.43667779e-03,  9.13047139e-03, -3.68520361e-03],\n",
       "        [-4.81710769e-03, -1.52462386e-02,  6.98529556e-03],\n",
       "        [-6.15788111e-03, -1.13266166e-02,  4.36168956e-03],\n",
       "        [-5.98682417e-03, -4.48275125e-03,  5.86980779e-04],\n",
       "        [-3.46202101e-03,  8.26372206e-03, -5.73522225e-03]], dtype=float32),\n",
       " (30, 3))"
      ]
     },
     "execution_count": 15,
     "metadata": {},
     "output_type": "execute_result"
    }
   ],
   "source": [
    "X, y = spiral_data(samples = 10, classes = 3)\n",
    "# X(30, 2) @ de(2, 3) = output(30, 3)\n",
    "dense1 = Layer_Dense(2, 3)\n",
    "dense1.forward(X)\n",
    "dense1.output, dense1.output.shape"
   ]
  },
  {
   "cell_type": "code",
   "execution_count": null,
   "metadata": {},
   "outputs": [],
   "source": []
  }
 ],
 "metadata": {
  "kernelspec": {
   "display_name": "Python 3",
   "language": "python",
   "name": "python3"
  },
  "language_info": {
   "codemirror_mode": {
    "name": "ipython",
    "version": 3
   },
   "file_extension": ".py",
   "mimetype": "text/x-python",
   "name": "python",
   "nbconvert_exporter": "python",
   "pygments_lexer": "ipython3",
   "version": "3.9.6"
  },
  "orig_nbformat": 4
 },
 "nbformat": 4,
 "nbformat_minor": 2
}

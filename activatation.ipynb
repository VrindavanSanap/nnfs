{
 "cells": [
  {
   "cell_type": "code",
   "execution_count": 6,
   "metadata": {},
   "outputs": [],
   "source": [
    "import numpy as np"
   ]
  },
  {
   "cell_type": "code",
   "execution_count": 7,
   "metadata": {},
   "outputs": [],
   "source": [
    "np.random.seed(0)\n",
    "X=np.array([   [1,2,3,2.5],\n",
    "                [2,5,-1,2.0],\n",
    "                [-1.5,2.7,3.3,-0.8]])"
   ]
  },
  {
   "cell_type": "code",
   "execution_count": 8,
   "metadata": {},
   "outputs": [],
   "source": [
    "class LayerDense:\n",
    "    def __init__(self,nInputs,nNeurons):\n",
    "        self.weights=np.random.randn(nInputs,nNeurons)*0.1\n",
    "        self.biases=np.zeros((1,nNeurons))\n",
    "    def forward(self,inputs):\n",
    "        self.output = inputs@self.weights+self.biases\n"
   ]
  },
  {
   "cell_type": "code",
   "execution_count": 9,
   "metadata": {},
   "outputs": [],
   "source": [
    "class ActivationReLU:\n",
    "\n",
    "    def forward(self, inputs):\n",
    "        self.output = np.maximum(0, inputs)"
   ]
  },
  {
   "cell_type": "code",
   "execution_count": 11,
   "metadata": {},
   "outputs": [
    {
     "name": "stdout",
     "output_type": "stream",
     "text": [
      "[[-0.87480338  0.38839981 -0.12573018 -0.15249159  0.72237094]\n",
      " [-1.03333399  0.69668176  0.23234768 -0.85790618  0.74753986]\n",
      " [-1.23169487 -0.06278753  0.2734237   0.41693615  1.25366948]]\n",
      "[[0.         0.38839981 0.         0.         0.72237094]\n",
      " [0.         0.69668176 0.23234768 0.         0.74753986]\n",
      " [0.         0.         0.2734237  0.41693615 1.25366948]]\n"
     ]
    }
   ],
   "source": [
    "l1=LayerDense(4,5)\n",
    "a1=ActivationReLU()\n",
    "\n",
    "l1.forward(X)\n",
    "a1.forward(l1.output)\n",
    "\n",
    "print(l1.output)\n",
    "print(a1.output)"
   ]
  }
 ],
 "metadata": {
  "kernelspec": {
   "display_name": "Python 3 (ipykernel)",
   "language": "python",
   "name": "python3"
  },
  "language_info": {
   "codemirror_mode": {
    "name": "ipython",
    "version": 3
   },
   "file_extension": ".py",
   "mimetype": "text/x-python",
   "name": "python",
   "nbconvert_exporter": "python",
   "pygments_lexer": "ipython3",
   "version": "3.8.10"
  },
  "orig_nbformat": 4
 },
 "nbformat": 4,
 "nbformat_minor": 2
}

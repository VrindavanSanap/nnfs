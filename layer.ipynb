{
 "cells": [
  {
   "cell_type": "code",
   "execution_count": 17,
   "metadata": {},
   "outputs": [],
   "source": [
    "inputs=[1.0,2.0,3.0,2.5]\n",
    "\n",
    "weights1 = [0.2, 0.8, -0.5, 1]\n",
    "weights2 = [0.5, -0.91, 0.26, -0.5]\n",
    "weights3 = [-0.26, -0.27, 0.17, 0.87]\n",
    "\n",
    "bias1 = 2\n",
    "bias2 = 3\n",
    "bias3 = 0.5"
   ]
  },
  {
   "cell_type": "code",
   "execution_count": 18,
   "metadata": {},
   "outputs": [
    {
     "name": "stdout",
     "output_type": "stream",
     "text": [
      "[4.8, 1.21, 4.525]\n"
     ]
    }
   ],
   "source": [
    "output=[0,0,0]\n",
    "output[0]=inputs[0]*weights1[0]+ inputs[1]*weights1[1]+inputs[2]*weights1[2]+bias1+inputs[3]*weights1[3]\n",
    "output[1]=inputs[0]*weights2[0]+ inputs[1]*weights2[1]+inputs[2]*weights2[2]+bias2+inputs[3]*weights2[3]\n",
    "output[2]=inputs[0]*weights3[0]+ inputs[1]*weights1[1]+inputs[2]*weights3[2]+bias3+inputs[3]*weights3[3]\n",
    "\n",
    "\n",
    "print(output)"
   ]
  }
 ],
 "metadata": {
  "kernelspec": {
   "display_name": "Python 3 (ipykernel)",
   "language": "python",
   "name": "python3"
  },
  "language_info": {
   "codemirror_mode": {
    "name": "ipython",
    "version": 3
   },
   "file_extension": ".py",
   "mimetype": "text/x-python",
   "name": "python",
   "nbconvert_exporter": "python",
   "pygments_lexer": "ipython3",
   "version": "3.8.10"
  },
  "orig_nbformat": 4
 },
 "nbformat": 4,
 "nbformat_minor": 2
}

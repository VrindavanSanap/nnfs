{
 "cells": [
  {
   "cell_type": "code",
   "execution_count": 1,
   "metadata": {},
   "outputs": [],
   "source": [
    "import numpy as np"
   ]
  },
  {
   "cell_type": "code",
   "execution_count": 2,
   "metadata": {},
   "outputs": [
    {
     "name": "stdout",
     "output_type": "stream",
     "text": [
      "[4.8   1.21  2.385]\n"
     ]
    }
   ],
   "source": [
    "#3 neurons with 4 inputs gives 3 output values\n",
    "inputs=[1,2,3,2.5]\n",
    "weights = [[0.2, 0.8, -0.5, 1],\n",
    " [0.5, -0.91, 0.26, -0.5],\n",
    " [-0.26, -0.27, 0.17, 0.87]]\n",
    "biases=[2,3,0.5]\n",
    "\n",
    "outputs=np.dot(weights,inputs)+biases\n",
    "print(outputs)"
   ]
  },
  {
   "cell_type": "code",
   "execution_count": 3,
   "metadata": {},
   "outputs": [],
   "source": [
    "# 3 neuurons with 5 batches of 4 inputs gives 5x3 output values\n",
    "\n",
    "#5x4 input matrix @ 4x3 weight matrix + 1x3bias \n",
    "#Gives 5x3 output matrix\n"
   ]
  },
  {
   "cell_type": "code",
   "execution_count": 15,
   "metadata": {},
   "outputs": [
    {
     "name": "stdout",
     "output_type": "stream",
     "text": [
      "[[ 0.5031  -1.04185 -2.03875]\n",
      " [ 0.2434  -2.7332  -5.7633 ]\n",
      " [-0.99314  1.41254 -0.35655]]\n"
     ]
    }
   ],
   "source": [
    "# with a batch of n with 4 inputs and 3 neurons we get  nx3 output matrix \n",
    "inputs=np.array([   [1,2,3,2.5],\n",
    "                    [2,5,-1,2.0],\n",
    "                    [-1.5,2.7,3.3,-0.8]])\n",
    "weights =np.array( [[0.2, 0.8, -0.5, 1],\n",
    "                    [0.5, -0.91, 0.26, -0.5],\n",
    "                    [-0.26, -0.27, 0.17, 0.87]])\n",
    "biases=[2,3,0.5]\n",
    "weights2 = np.array([[0.1, -0.14, 0.5],\n",
    "                    [-0.5, 0.12, -0.33],\n",
    "                    [-0.44, 0.73, -0.13]])\n",
    "biases2 = [-1, 2, -0.5]\n",
    "l1outputs=inputs@weights.T+biases\n",
    "l2outputs=l1outputs@weights2.T+biases2\n",
    "# outputs=np.dot(inputs,weights.T)+biases\n",
    "print(l2outputs)"
   ]
  },
  {
   "cell_type": "code",
   "execution_count": 16,
   "metadata": {},
   "outputs": [],
   "source": [
    "# Making a layer object"
   ]
  },
  {
   "cell_type": "code",
   "execution_count": 18,
   "metadata": {},
   "outputs": [],
   "source": [
    "np.random.seed(0)\n",
    "X=np.array([   [1,2,3,2.5],\n",
    "                [2,5,-1,2.0],\n",
    "                [-1.5,2.7,3.3,-0.8]])"
   ]
  },
  {
   "cell_type": "code",
   "execution_count": 21,
   "metadata": {},
   "outputs": [],
   "source": [
    "class LayerDense:\n",
    "    def __init__(self,nInputs,nNeurons):\n",
    "        self.weights=np.random.randn(nInputs,nNeurons)*0.1\n",
    "        self.biaes=np.zeros((1,nNeurons))\n",
    "    def forward(self,inputs):\n",
    "        return inputs@self.weights+self.biaes"
   ]
  },
  {
   "cell_type": "code",
   "execution_count": 23,
   "metadata": {},
   "outputs": [
    {
     "data": {
      "text/plain": [
       "array([[-0.04676146, -0.06312478,  0.01743827],\n",
       "       [-0.06892937, -0.03879458,  0.01626571],\n",
       "       [-0.03569601, -0.0414762 ,  0.09697637]])"
      ]
     },
     "execution_count": 23,
     "metadata": {},
     "output_type": "execute_result"
    }
   ],
   "source": [
    "l1=LayerDense(4,5)\n",
    "l2=LayerDense(5,3)\n",
    "o1=l1.forward(X)\n",
    "l2.forward(o1)"
   ]
  }
 ],
 "metadata": {
  "kernelspec": {
   "display_name": "Python 3 (ipykernel)",
   "language": "python",
   "name": "python3"
  },
  "language_info": {
   "codemirror_mode": {
    "name": "ipython",
    "version": 3
   },
   "file_extension": ".py",
   "mimetype": "text/x-python",
   "name": "python",
   "nbconvert_exporter": "python",
   "pygments_lexer": "ipython3",
   "version": "3.8.10"
  },
  "orig_nbformat": 4,
  "vscode": {
   "interpreter": {
    "hash": "fbe58ca63fe33f9eeae9e71d10368d2b4a57f2b1b395836210cc60d362c66949"
   }
  }
 },
 "nbformat": 4,
 "nbformat_minor": 2
}
